{
  "cells": [
    {
      "cell_type": "markdown",
      "metadata": {
        "collapsed": true,
        "pycharm": {
          "name": "#%% md\n"
        },
        "id": "ObiXGOIpcsuy"
      },
      "source": [
        "# ÖDEV 1: PCA yardımı ile Classification,\n",
        "\n",
        "Bu ödevde \"Credit Risk Prediction\" veri setini kullanacağız. Amacımız, verinin boyut sayısını düşürerek olabildiğince yüksek accuracy değerini alabilmek. Aşağıda verinin okunma ve temizlenme kısmını hazırlayıp vereceğim. Devamında ise yapmanız gerekenler:\n",
        "\n",
        "1. PCA kullanarak verinin boyutunu düşürmek\n",
        "    * Önce explained varience ratio değerini inceleyerek veriyi kaç boyuta düşürebileceğini kontrol et.\n",
        "    * Daha sonra farklı boyutlarda denemeler yaparak boyutu düşürülmüş verileri elde et.\n",
        "2. Classification modellerini dene\n",
        "    * Logistic Regression\n",
        "    * Random Forest\n",
        "    * ve eğer istersen herhangi bir modelle daha\n",
        "\n",
        "İsteğe bağlı olarak, verinin boyutunu düşürmek için diğer yöntemleri de kullanıp en yüksek accuracy değerini almayı deneyebilirsin."
      ]
    },
    {
      "cell_type": "code",
      "execution_count": 210,
      "outputs": [],
      "source": [
        "import pandas as pd\n",
        "import numpy as np\n",
        "import matplotlib.pyplot as plt"
      ],
      "metadata": {
        "pycharm": {
          "name": "#%%\n"
        },
        "id": "dUqINpLOcsu6"
      }
    },
    {
      "cell_type": "code",
      "execution_count": 211,
      "outputs": [],
      "source": [
        "df: pd.DataFrame = pd.read_csv('./credit_risk_dataset.csv')"
      ],
      "metadata": {
        "pycharm": {
          "name": "#%%\n"
        },
        "id": "tANE2RmOcsu9"
      }
    },
    {
      "cell_type": "code",
      "execution_count": 212,
      "outputs": [
        {
          "output_type": "stream",
          "name": "stdout",
          "text": [
            "person_age                       0\n",
            "person_income                    0\n",
            "person_home_ownership            0\n",
            "person_emp_length              895\n",
            "loan_intent                      0\n",
            "loan_grade                       0\n",
            "loan_amnt                        0\n",
            "loan_int_rate                 3116\n",
            "loan_status                      0\n",
            "loan_percent_income              0\n",
            "cb_person_default_on_file        0\n",
            "cb_person_cred_hist_length       0\n",
            "dtype: int64\n"
          ]
        }
      ],
      "source": [
        "print(df.isnull().sum())"
      ],
      "metadata": {
        "pycharm": {
          "name": "#%%\n"
        },
        "colab": {
          "base_uri": "https://localhost:8080/"
        },
        "id": "JvzgvQPrcsu-",
        "outputId": "0a72cb3c-28e0-428b-a983-0dacf29db059"
      }
    },
    {
      "cell_type": "code",
      "execution_count": null,
      "outputs": [],
      "source": [
        "# Null değerleri sütun ortalaması ile dolduruyoruz\n",
        "df[\"person_emp_length\"].fillna(df[\"person_emp_length\"].median(), inplace=True)\n",
        "df[\"loan_int_rate\"].fillna(df[\"loan_int_rate\"].median(), inplace=True)"
      ],
      "metadata": {
        "pycharm": {
          "name": "#%%\n"
        },
        "id": "a4Cf8Dy0csu_"
      }
    },
    {
      "cell_type": "code",
      "execution_count": null,
      "outputs": [
        {
          "output_type": "execute_result",
          "data": {
            "text/plain": [
              "165"
            ]
          },
          "metadata": {},
          "execution_count": 197
        }
      ],
      "source": [
        "df.duplicated().sum()"
      ],
      "metadata": {
        "pycharm": {
          "name": "#%%\n"
        },
        "colab": {
          "base_uri": "https://localhost:8080/"
        },
        "id": "ah6jhhCicsvA",
        "outputId": "c182ee3c-9d0f-4246-e731-16caf9a5c3e7"
      }
    },
    {
      "cell_type": "code",
      "execution_count": null,
      "outputs": [],
      "source": [
        "df.drop_duplicates(inplace=True)"
      ],
      "metadata": {
        "pycharm": {
          "name": "#%%\n"
        },
        "id": "VGCT_X1BcsvB"
      }
    },
    {
      "cell_type": "code",
      "execution_count": null,
      "outputs": [
        {
          "output_type": "execute_result",
          "data": {
            "text/html": [
              "\n",
              "  <div id=\"df-99c5c6eb-6f7a-4477-b46b-b7ef47082339\">\n",
              "    <div class=\"colab-df-container\">\n",
              "      <div>\n",
              "<style scoped>\n",
              "    .dataframe tbody tr th:only-of-type {\n",
              "        vertical-align: middle;\n",
              "    }\n",
              "\n",
              "    .dataframe tbody tr th {\n",
              "        vertical-align: top;\n",
              "    }\n",
              "\n",
              "    .dataframe thead th {\n",
              "        text-align: right;\n",
              "    }\n",
              "</style>\n",
              "<table border=\"1\" class=\"dataframe\">\n",
              "  <thead>\n",
              "    <tr style=\"text-align: right;\">\n",
              "      <th></th>\n",
              "      <th>count</th>\n",
              "      <th>mean</th>\n",
              "      <th>std</th>\n",
              "      <th>min</th>\n",
              "      <th>25%</th>\n",
              "      <th>50%</th>\n",
              "      <th>75%</th>\n",
              "      <th>max</th>\n",
              "    </tr>\n",
              "  </thead>\n",
              "  <tbody>\n",
              "    <tr>\n",
              "      <th>person_age</th>\n",
              "      <td>32416.0</td>\n",
              "      <td>27.747008</td>\n",
              "      <td>6.354100</td>\n",
              "      <td>20.00</td>\n",
              "      <td>23.00</td>\n",
              "      <td>26.00</td>\n",
              "      <td>30.00</td>\n",
              "      <td>144.00</td>\n",
              "    </tr>\n",
              "    <tr>\n",
              "      <th>person_income</th>\n",
              "      <td>32416.0</td>\n",
              "      <td>66091.640826</td>\n",
              "      <td>62015.580269</td>\n",
              "      <td>4000.00</td>\n",
              "      <td>38542.00</td>\n",
              "      <td>55000.00</td>\n",
              "      <td>79218.00</td>\n",
              "      <td>6000000.00</td>\n",
              "    </tr>\n",
              "    <tr>\n",
              "      <th>person_emp_length</th>\n",
              "      <td>32416.0</td>\n",
              "      <td>4.768880</td>\n",
              "      <td>4.090411</td>\n",
              "      <td>0.00</td>\n",
              "      <td>2.00</td>\n",
              "      <td>4.00</td>\n",
              "      <td>7.00</td>\n",
              "      <td>123.00</td>\n",
              "    </tr>\n",
              "    <tr>\n",
              "      <th>loan_amnt</th>\n",
              "      <td>32416.0</td>\n",
              "      <td>9593.845632</td>\n",
              "      <td>6322.730241</td>\n",
              "      <td>500.00</td>\n",
              "      <td>5000.00</td>\n",
              "      <td>8000.00</td>\n",
              "      <td>12250.00</td>\n",
              "      <td>35000.00</td>\n",
              "    </tr>\n",
              "    <tr>\n",
              "      <th>loan_int_rate</th>\n",
              "      <td>32416.0</td>\n",
              "      <td>11.014662</td>\n",
              "      <td>3.083050</td>\n",
              "      <td>5.42</td>\n",
              "      <td>8.49</td>\n",
              "      <td>10.99</td>\n",
              "      <td>13.11</td>\n",
              "      <td>23.22</td>\n",
              "    </tr>\n",
              "    <tr>\n",
              "      <th>loan_status</th>\n",
              "      <td>32416.0</td>\n",
              "      <td>0.218688</td>\n",
              "      <td>0.413363</td>\n",
              "      <td>0.00</td>\n",
              "      <td>0.00</td>\n",
              "      <td>0.00</td>\n",
              "      <td>0.00</td>\n",
              "      <td>1.00</td>\n",
              "    </tr>\n",
              "    <tr>\n",
              "      <th>loan_percent_income</th>\n",
              "      <td>32416.0</td>\n",
              "      <td>0.170250</td>\n",
              "      <td>0.106812</td>\n",
              "      <td>0.00</td>\n",
              "      <td>0.09</td>\n",
              "      <td>0.15</td>\n",
              "      <td>0.23</td>\n",
              "      <td>0.83</td>\n",
              "    </tr>\n",
              "    <tr>\n",
              "      <th>cb_person_cred_hist_length</th>\n",
              "      <td>32416.0</td>\n",
              "      <td>5.811297</td>\n",
              "      <td>4.059030</td>\n",
              "      <td>2.00</td>\n",
              "      <td>3.00</td>\n",
              "      <td>4.00</td>\n",
              "      <td>8.00</td>\n",
              "      <td>30.00</td>\n",
              "    </tr>\n",
              "  </tbody>\n",
              "</table>\n",
              "</div>\n",
              "      <button class=\"colab-df-convert\" onclick=\"convertToInteractive('df-99c5c6eb-6f7a-4477-b46b-b7ef47082339')\"\n",
              "              title=\"Convert this dataframe to an interactive table.\"\n",
              "              style=\"display:none;\">\n",
              "        \n",
              "  <svg xmlns=\"http://www.w3.org/2000/svg\" height=\"24px\"viewBox=\"0 0 24 24\"\n",
              "       width=\"24px\">\n",
              "    <path d=\"M0 0h24v24H0V0z\" fill=\"none\"/>\n",
              "    <path d=\"M18.56 5.44l.94 2.06.94-2.06 2.06-.94-2.06-.94-.94-2.06-.94 2.06-2.06.94zm-11 1L8.5 8.5l.94-2.06 2.06-.94-2.06-.94L8.5 2.5l-.94 2.06-2.06.94zm10 10l.94 2.06.94-2.06 2.06-.94-2.06-.94-.94-2.06-.94 2.06-2.06.94z\"/><path d=\"M17.41 7.96l-1.37-1.37c-.4-.4-.92-.59-1.43-.59-.52 0-1.04.2-1.43.59L10.3 9.45l-7.72 7.72c-.78.78-.78 2.05 0 2.83L4 21.41c.39.39.9.59 1.41.59.51 0 1.02-.2 1.41-.59l7.78-7.78 2.81-2.81c.8-.78.8-2.07 0-2.86zM5.41 20L4 18.59l7.72-7.72 1.47 1.35L5.41 20z\"/>\n",
              "  </svg>\n",
              "      </button>\n",
              "      \n",
              "  <style>\n",
              "    .colab-df-container {\n",
              "      display:flex;\n",
              "      flex-wrap:wrap;\n",
              "      gap: 12px;\n",
              "    }\n",
              "\n",
              "    .colab-df-convert {\n",
              "      background-color: #E8F0FE;\n",
              "      border: none;\n",
              "      border-radius: 50%;\n",
              "      cursor: pointer;\n",
              "      display: none;\n",
              "      fill: #1967D2;\n",
              "      height: 32px;\n",
              "      padding: 0 0 0 0;\n",
              "      width: 32px;\n",
              "    }\n",
              "\n",
              "    .colab-df-convert:hover {\n",
              "      background-color: #E2EBFA;\n",
              "      box-shadow: 0px 1px 2px rgba(60, 64, 67, 0.3), 0px 1px 3px 1px rgba(60, 64, 67, 0.15);\n",
              "      fill: #174EA6;\n",
              "    }\n",
              "\n",
              "    [theme=dark] .colab-df-convert {\n",
              "      background-color: #3B4455;\n",
              "      fill: #D2E3FC;\n",
              "    }\n",
              "\n",
              "    [theme=dark] .colab-df-convert:hover {\n",
              "      background-color: #434B5C;\n",
              "      box-shadow: 0px 1px 3px 1px rgba(0, 0, 0, 0.15);\n",
              "      filter: drop-shadow(0px 1px 2px rgba(0, 0, 0, 0.3));\n",
              "      fill: #FFFFFF;\n",
              "    }\n",
              "  </style>\n",
              "\n",
              "      <script>\n",
              "        const buttonEl =\n",
              "          document.querySelector('#df-99c5c6eb-6f7a-4477-b46b-b7ef47082339 button.colab-df-convert');\n",
              "        buttonEl.style.display =\n",
              "          google.colab.kernel.accessAllowed ? 'block' : 'none';\n",
              "\n",
              "        async function convertToInteractive(key) {\n",
              "          const element = document.querySelector('#df-99c5c6eb-6f7a-4477-b46b-b7ef47082339');\n",
              "          const dataTable =\n",
              "            await google.colab.kernel.invokeFunction('convertToInteractive',\n",
              "                                                     [key], {});\n",
              "          if (!dataTable) return;\n",
              "\n",
              "          const docLinkHtml = 'Like what you see? Visit the ' +\n",
              "            '<a target=\"_blank\" href=https://colab.research.google.com/notebooks/data_table.ipynb>data table notebook</a>'\n",
              "            + ' to learn more about interactive tables.';\n",
              "          element.innerHTML = '';\n",
              "          dataTable['output_type'] = 'display_data';\n",
              "          await google.colab.output.renderOutput(dataTable, element);\n",
              "          const docLink = document.createElement('div');\n",
              "          docLink.innerHTML = docLinkHtml;\n",
              "          element.appendChild(docLink);\n",
              "        }\n",
              "      </script>\n",
              "    </div>\n",
              "  </div>\n",
              "  "
            ],
            "text/plain": [
              "                              count          mean           std      min  \\\n",
              "person_age                  32416.0     27.747008      6.354100    20.00   \n",
              "person_income               32416.0  66091.640826  62015.580269  4000.00   \n",
              "person_emp_length           32416.0      4.768880      4.090411     0.00   \n",
              "loan_amnt                   32416.0   9593.845632   6322.730241   500.00   \n",
              "loan_int_rate               32416.0     11.014662      3.083050     5.42   \n",
              "loan_status                 32416.0      0.218688      0.413363     0.00   \n",
              "loan_percent_income         32416.0      0.170250      0.106812     0.00   \n",
              "cb_person_cred_hist_length  32416.0      5.811297      4.059030     2.00   \n",
              "\n",
              "                                 25%       50%       75%         max  \n",
              "person_age                     23.00     26.00     30.00      144.00  \n",
              "person_income               38542.00  55000.00  79218.00  6000000.00  \n",
              "person_emp_length               2.00      4.00      7.00      123.00  \n",
              "loan_amnt                    5000.00   8000.00  12250.00    35000.00  \n",
              "loan_int_rate                   8.49     10.99     13.11       23.22  \n",
              "loan_status                     0.00      0.00      0.00        1.00  \n",
              "loan_percent_income             0.09      0.15      0.23        0.83  \n",
              "cb_person_cred_hist_length      3.00      4.00      8.00       30.00  "
            ]
          },
          "metadata": {},
          "execution_count": 199
        }
      ],
      "source": [
        "df.describe().T"
      ],
      "metadata": {
        "pycharm": {
          "name": "#%%\n"
        },
        "colab": {
          "base_uri": "https://localhost:8080/",
          "height": 300
        },
        "id": "CMndXJhFcsvC",
        "outputId": "64782636-76b5-4c5e-9aa1-2c80cc333f91"
      }
    },
    {
      "cell_type": "code",
      "execution_count": null,
      "outputs": [],
      "source": [
        "# Outlier temizliği\n",
        "df = df[df['person_age']<=100]\n",
        "df = df[df['person_emp_length'] <= 60]\n",
        "df = df[df['person_income']<=4e6]"
      ],
      "metadata": {
        "pycharm": {
          "name": "#%%\n"
        },
        "id": "ZLe2dFXrcsvE"
      }
    },
    {
      "cell_type": "code",
      "execution_count": null,
      "outputs": [
        {
          "output_type": "execute_result",
          "data": {
            "text/plain": [
              "Index(['person_home_ownership', 'loan_intent', 'loan_grade',\n",
              "       'cb_person_default_on_file'],\n",
              "      dtype='object')"
            ]
          },
          "metadata": {},
          "execution_count": 201
        }
      ],
      "source": [
        "# Kategorik verileri alıyoruz ve one hot encoding haline getiriyoruz\n",
        "cat_cols = pd.DataFrame(df[df.select_dtypes(include=['object']).columns])\n",
        "cat_cols.columns"
      ],
      "metadata": {
        "pycharm": {
          "name": "#%%\n"
        },
        "colab": {
          "base_uri": "https://localhost:8080/"
        },
        "id": "-WA4i54ZcsvG",
        "outputId": "5ba3866b-9691-4ec8-fac3-993342c0aa74"
      }
    },
    {
      "cell_type": "code",
      "execution_count": null,
      "outputs": [],
      "source": [
        "encoded_cat_cols = pd.get_dummies(cat_cols)\n",
        "df.drop(df.select_dtypes(include=['object']).columns, axis=1,inplace=True)\n",
        "df = pd.concat([df,encoded_cat_cols], axis=1)"
      ],
      "metadata": {
        "pycharm": {
          "name": "#%%\n"
        },
        "id": "oHk81KhZcsvI"
      }
    },
    {
      "cell_type": "code",
      "execution_count": null,
      "outputs": [],
      "source": [
        "X = df.drop('loan_status', axis=1).values\n",
        "y = df['loan_status'].values"
      ],
      "metadata": {
        "pycharm": {
          "name": "#%%\n"
        },
        "id": "B-vlFDMxcsvI"
      }
    },
    {
      "cell_type": "code",
      "execution_count": null,
      "outputs": [],
      "source": [
        "# Verileri train ve test olarak ikiye ayırıyoruz\n",
        "\n",
        "from sklearn.model_selection import StratifiedShuffleSplit\n",
        "\n",
        "split = StratifiedShuffleSplit(1, test_size=0.1)\n",
        "train_idx, test_idx = next(split.split(X, y))\n",
        "train_x = X[train_idx]\n",
        "test_x = X[test_idx]\n",
        "\n",
        "train_y = y[train_idx]\n",
        "test_y = y[test_idx]"
      ],
      "metadata": {
        "pycharm": {
          "name": "#%%\n"
        },
        "id": "bQY4BFKjcsvJ"
      }
    },
    {
      "cell_type": "markdown",
      "source": [
        "## Kolay gelsin!"
      ],
      "metadata": {
        "collapsed": false,
        "pycharm": {
          "name": "#%% md\n"
        },
        "id": "55RfIQ5HcsvL"
      }
    },
    {
      "cell_type": "code",
      "source": [
        "X.shape"
      ],
      "metadata": {
        "colab": {
          "base_uri": "https://localhost:8080/"
        },
        "id": "L8folxwpEBh2",
        "outputId": "ff7e6fb4-e8ef-4cfd-f3b6-e02dd7d3c3a1"
      },
      "execution_count": 213,
      "outputs": [
        {
          "output_type": "execute_result",
          "data": {
            "text/plain": [
              "(32409, 26)"
            ]
          },
          "metadata": {},
          "execution_count": 213
        }
      ]
    },
    {
      "cell_type": "code",
      "execution_count": 256,
      "outputs": [],
      "source": [
        "from sklearn.decomposition import PCA\n",
        "n_components = 26\n",
        "pca = PCA(n_components=n_components)\n",
        "components = pca.fit_transform(X)"
      ],
      "metadata": {
        "pycharm": {
          "name": "#%%\n"
        },
        "id": "-SJk0eH5csvM"
      }
    },
    {
      "cell_type": "code",
      "source": [
        "pca.components_"
      ],
      "metadata": {
        "colab": {
          "base_uri": "https://localhost:8080/"
        },
        "id": "jm_iPpufwjk6",
        "outputId": "5cc3195e-5540-47e1-dd1f-cd326361f467"
      },
      "execution_count": 257,
      "outputs": [
        {
          "output_type": "execute_result",
          "data": {
            "text/plain": [
              "array([[ 1.66046783e-05,  9.99254947e-01,  1.17780504e-05,\n",
              "         3.85946944e-02, -1.81909023e-08, -5.92622383e-07,\n",
              "         9.47124176e-06,  2.21338548e-06,  1.26873388e-08,\n",
              "        -2.30515410e-07, -1.99555741e-06,  3.53149822e-08,\n",
              "        -1.28190361e-07,  3.09339114e-07, -2.98771873e-07,\n",
              "         5.20145246e-08,  3.02936123e-08,  7.87708060e-08,\n",
              "         5.07886534e-08, -1.36190731e-07, -8.65060290e-08,\n",
              "         5.47225291e-08,  3.04328342e-08,  7.98193767e-09,\n",
              "         1.69441192e-08, -1.69441192e-08],\n",
              "       [-7.17257027e-06,  3.85946949e-02, -4.35518368e-05,\n",
              "        -9.99254943e-01, -7.58994580e-05, -1.25380757e-05,\n",
              "        -1.98395072e-06, -4.79834427e-06, -9.32068099e-08,\n",
              "         5.52711838e-07,  4.33883924e-06,  4.78966759e-08,\n",
              "         2.45336416e-07, -1.46028334e-06,  7.80070198e-07,\n",
              "         2.33073062e-07,  1.53906986e-07,  9.88202251e-06,\n",
              "        -3.40607609e-06,  1.65482330e-06, -4.16960792e-06,\n",
              "        -2.59411711e-06, -9.72127098e-07, -3.94917597e-07,\n",
              "         2.68147030e-06, -2.68147030e-06],\n",
              "       [ 8.44631248e-01, -1.98430112e-05,  1.15219340e-01,\n",
              "        -1.31914431e-05,  3.79882348e-03, -1.02936460e-04,\n",
              "         5.22748443e-01,  6.88524438e-04, -8.51199771e-05,\n",
              "         3.49506467e-04, -9.52910928e-04, -4.97451812e-04,\n",
              "        -5.02906330e-03,  2.92674363e-03,  1.42888121e-03,\n",
              "         1.82904860e-03, -6.58158324e-04, -3.10429135e-04,\n",
              "        -4.80935167e-04,  3.03956212e-04,  4.30357931e-04,\n",
              "        -2.69231320e-05,  5.31860615e-05,  3.07872295e-05,\n",
              "        -2.60974912e-04,  2.60974912e-04],\n",
              "       [-8.91079342e-02, -8.32506536e-06,  9.81872674e-01,\n",
              "        -3.13681564e-05, -1.44138679e-01, -1.67918144e-03,\n",
              "        -7.14682456e-02,  2.63204680e-02, -2.54855432e-04,\n",
              "         2.26811257e-03, -2.83337252e-02, -3.50234942e-05,\n",
              "        -1.63585597e-03,  4.91879799e-04, -1.58334427e-04,\n",
              "         6.88883410e-05,  1.26844575e-03,  1.81158501e-02,\n",
              "        -7.29782313e-04, -8.34694348e-03, -5.42179368e-03,\n",
              "        -2.67745098e-03, -8.96296487e-04, -4.35831566e-05,\n",
              "         8.89511357e-03, -8.89511357e-03],\n",
              "       [-2.03686858e-02,  1.94825618e-06,  1.45837803e-01,\n",
              "        -8.17128803e-05,  9.76179079e-01,  1.25330181e-05,\n",
              "        -6.49305144e-03, -1.72839324e-02,  2.29159626e-04,\n",
              "        -5.32553512e-04,  1.75873263e-02, -4.06461535e-04,\n",
              "        -1.43560985e-03,  1.72905208e-03,  1.06794871e-03,\n",
              "        -2.07109094e-04, -7.47820307e-04, -1.13949224e-01,\n",
              "        -1.76173165e-03,  4.73374677e-02,  4.57701816e-02,\n",
              "         1.60773698e-02,  4.85812322e-03,  1.66781294e-03,\n",
              "        -5.96875553e-02,  5.96875553e-02],\n",
              "       [ 5.27398805e-01, -4.79758683e-07, -1.28709905e-02,\n",
              "        -2.08314026e-06,  6.78455677e-03, -8.81585825e-04,\n",
              "        -8.49437363e-01,  3.36884843e-04, -6.86406282e-05,\n",
              "        -1.97608261e-03,  1.70783839e-03,  8.83024185e-04,\n",
              "        -4.70563253e-03,  5.22967322e-03,  2.40020181e-03,\n",
              "        -1.51966403e-03, -2.28760266e-03, -2.05302904e-04,\n",
              "        -2.08214083e-03, -2.65028522e-04,  1.41862346e-03,\n",
              "         9.79561860e-04,  2.61374124e-04, -1.07087183e-04,\n",
              "        -2.84448337e-03,  2.84448337e-03],\n",
              "       [-1.86655134e-03,  2.31217668e-06,  3.35723389e-02,\n",
              "         5.48380003e-06, -2.58280239e-02,  1.67438445e-02,\n",
              "        -1.79382877e-03, -6.68280087e-01, -8.58917599e-04,\n",
              "        -2.01566262e-02,  6.89295631e-01,  8.13386614e-04,\n",
              "        -7.84854545e-03, -3.06381575e-02,  5.31352984e-02,\n",
              "        -9.55526595e-03, -5.90671612e-03, -1.03210093e-01,\n",
              "         2.02596499e-01, -5.76696922e-02, -2.88038716e-02,\n",
              "        -8.10849849e-03, -3.39627819e-03, -1.40806623e-03,\n",
              "         8.91686249e-02, -8.91686249e-02],\n",
              "       [-2.68034628e-03,  4.86487411e-07,  8.46867313e-03,\n",
              "         7.62474566e-06, -4.34148543e-02,  4.95187757e-03,\n",
              "         2.41683701e-03, -1.83882517e-01,  4.72591085e-05,\n",
              "        -3.42101995e-03,  1.87256278e-01,  1.12194375e-02,\n",
              "         7.98087552e-03, -4.16505026e-03,  2.87031747e-03,\n",
              "        -1.19064071e-02, -5.99917306e-03,  2.76384705e-01,\n",
              "        -6.70011133e-01,  2.97677668e-01,  8.53483437e-02,\n",
              "         9.67609256e-03,  7.25159932e-04,  1.99163876e-04,\n",
              "        -3.92064808e-01,  3.92064808e-01],\n",
              "       [ 6.38445849e-03, -9.27563076e-08,  3.18111562e-03,\n",
              "         3.69433851e-07, -2.79302257e-02, -1.09468351e-03,\n",
              "        -1.52100841e-03, -6.46062105e-03, -9.11533505e-04,\n",
              "         5.52938412e-04,  6.81921615e-03, -9.22366719e-02,\n",
              "         8.29283504e-01, -1.98314859e-02, -4.20110069e-01,\n",
              "        -1.19691069e-01, -1.77414208e-01, -1.39684303e-01,\n",
              "         1.12072292e-01,  1.54666001e-01, -9.86163764e-02,\n",
              "        -1.97348857e-02, -6.34197658e-03, -2.36075138e-03,\n",
              "        -8.37136864e-02,  8.37136864e-02],\n",
              "       [ 1.57981475e-03,  1.33297296e-07,  6.54219911e-04,\n",
              "        -1.80379757e-06,  1.04882536e-01, -5.27109399e-04,\n",
              "        -5.49658373e-04, -3.82355557e-02,  8.99231850e-05,\n",
              "        -2.36712703e-03,  4.05127595e-02, -1.35963529e-02,\n",
              "         2.34464794e-01,  5.51012416e-03, -1.28480352e-01,\n",
              "        -5.33095326e-03, -9.25672605e-02,  4.55497216e-01,\n",
              "        -3.93419897e-01, -4.20749463e-01,  2.63698969e-01,\n",
              "         6.82330363e-02,  2.05294645e-02,  6.21067302e-03,\n",
              "         3.81873050e-01, -3.81873050e-01],\n",
              "       [-1.41781346e-03,  9.96981845e-08, -1.91276077e-04,\n",
              "         2.94816600e-07,  3.50738336e-04, -2.00230597e-03,\n",
              "         2.17583530e-03,  7.95487545e-02, -1.79177369e-03,\n",
              "        -9.05787900e-02,  1.28218091e-02, -4.91939779e-02,\n",
              "         1.87783026e-01, -1.87932420e-02,  7.15823122e-01,\n",
              "        -2.12570503e-01, -6.23048425e-01, -3.62866306e-03,\n",
              "        -6.07143517e-03,  2.98439482e-02, -1.79239334e-02,\n",
              "        -3.50673534e-03,  1.63564270e-03, -3.48823893e-04,\n",
              "         9.94748027e-03, -9.94748027e-03],\n",
              "       [ 2.22302309e-03,  1.21806070e-07, -1.01827953e-03,\n",
              "         2.42698764e-07,  8.78364203e-03,  1.92155308e-03,\n",
              "        -1.91281774e-04, -6.46318932e-02,  1.44856860e-03,\n",
              "         1.41052115e-01, -7.78687905e-02, -3.61708435e-01,\n",
              "         1.48444200e-01, -1.81081544e-02,  2.79494487e-01,\n",
              "        -6.29309215e-01,  5.81187116e-01,  3.03822402e-02,\n",
              "        -3.04922551e-02,  4.79647052e-03, -1.62324490e-02,\n",
              "         8.01222308e-03,  2.63263239e-03,  9.01137928e-04,\n",
              "         3.49350822e-02, -3.49350822e-02],\n",
              "       [-1.69229689e-05, -1.33267779e-07,  3.67960702e-04,\n",
              "        -4.90073807e-07,  1.34902863e-03, -1.82725113e-03,\n",
              "         2.41194813e-03,  7.72127418e-02, -1.08912400e-03,\n",
              "        -1.43683126e-01,  6.75595080e-02,  7.77271809e-01,\n",
              "        -6.91609053e-02,  2.41971156e-02, -1.38857943e-01,\n",
              "        -5.82627708e-01, -1.08223679e-02, -4.96606697e-03,\n",
              "         3.14341025e-03,  3.33646134e-03, -4.52229015e-03,\n",
              "         1.08219930e-03,  1.82905451e-03,  9.72317283e-05,\n",
              "         1.36422271e-02, -1.36422271e-02],\n",
              "       [-1.13296489e-03,  7.28477233e-08, -1.11260865e-03,\n",
              "        -3.06879925e-06, -4.07092603e-02, -7.55313441e-04,\n",
              "         2.35653913e-03, -7.48975501e-03,  2.39575691e-03,\n",
              "         1.38640493e-02, -8.77005119e-03, -2.58577521e-02,\n",
              "         4.39205967e-02,  7.09917327e-02,  1.60210523e-03,\n",
              "        -6.64478452e-02, -2.42088373e-02, -2.76890145e-02,\n",
              "         2.22394345e-01, -6.49151632e-01,  4.50091704e-01,\n",
              "         7.35614132e-03, -2.29618585e-03, -7.05357890e-04,\n",
              "        -3.94395447e-01,  3.94395447e-01],\n",
              "       [-5.38604338e-03, -8.97965208e-08, -2.66217062e-05,\n",
              "        -7.42380337e-07, -2.29728756e-03, -1.88555820e-03,\n",
              "         2.75034745e-03, -7.68494097e-02,  7.86220055e-04,\n",
              "         1.03638066e-01, -2.75748760e-02, -1.84358068e-01,\n",
              "        -1.62626050e-01,  9.00985652e-01, -1.63457531e-01,\n",
              "        -1.83228919e-01, -2.07315084e-01, -1.55057026e-02,\n",
              "        -1.33033254e-02,  6.04631197e-02, -3.22672203e-02,\n",
              "         2.19448611e-03, -1.14722422e-03, -4.34133236e-04,\n",
              "         3.11866297e-02, -3.11866297e-02],\n",
              "       [ 1.36565070e-03,  3.53790485e-07, -1.55440484e-03,\n",
              "         7.20075462e-07,  5.62738971e-04,  1.87874090e-02,\n",
              "        -1.93480805e-03, -4.04067795e-01,  9.53091559e-03,\n",
              "         7.75134818e-01, -3.80597939e-01,  2.28934243e-01,\n",
              "         3.37356657e-03, -1.16689944e-01,  3.02357840e-02,\n",
              "         7.07867382e-03, -1.52932323e-01, -1.47911666e-03,\n",
              "         6.03708025e-03,  7.33802437e-03, -2.16267009e-03,\n",
              "        -9.38667201e-03, -2.21221085e-04, -1.25424774e-04,\n",
              "         2.40258347e-03, -2.40258347e-03],\n",
              "       [-1.49999102e-04, -9.97037689e-08,  7.51939049e-04,\n",
              "        -1.06949613e-06,  6.89983669e-02, -5.61624095e-03,\n",
              "         5.16820300e-04, -1.02982309e-02,  1.56205217e-03,\n",
              "         2.03478103e-03,  6.70139770e-03,  5.33892659e-03,\n",
              "         5.01857824e-04,  9.07067107e-03, -5.27067855e-03,\n",
              "         3.36454376e-03, -1.30053207e-02,  3.94043428e-01,\n",
              "         1.14136308e-01, -2.98825182e-01, -7.18672232e-01,\n",
              "         4.16082055e-01,  7.11090420e-02,  2.21265825e-02,\n",
              "        -1.44872476e-01,  1.44872476e-01],\n",
              "       [-3.89870300e-04,  5.51911257e-08,  2.48236337e-04,\n",
              "        -1.14978872e-06, -6.82743913e-02,  7.34468319e-03,\n",
              "         5.96546246e-04, -8.28364732e-04,  3.75466945e-03,\n",
              "         4.55272146e-03, -7.47902617e-03,  1.60764725e-03,\n",
              "        -3.93351195e-04, -1.04883492e-02,  5.02893871e-03,\n",
              "         3.43930721e-03,  8.05807239e-04, -4.86625263e-01,\n",
              "        -2.40980028e-01, -2.26973587e-02,  1.29194945e-01,\n",
              "         8.08948821e-01, -1.46492020e-01, -4.13490955e-02,\n",
              "         5.19242500e-02, -5.19242500e-02],\n",
              "       [-2.36481427e-04,  8.80073019e-09,  2.62688442e-04,\n",
              "        -7.14140471e-07, -2.61426429e-02, -3.10163332e-03,\n",
              "         2.18043690e-04, -3.24951410e-03,  6.54414919e-03,\n",
              "        -1.00170911e-03, -2.29292597e-03, -1.18218879e-03,\n",
              "        -2.96689687e-04, -1.56111334e-03, -6.00570990e-04,\n",
              "         2.61418533e-03,  1.02637748e-03, -3.14581019e-01,\n",
              "        -2.24592608e-01, -1.56322802e-01, -1.10356413e-01,\n",
              "        -8.43972019e-02,  8.97660694e-01, -7.41064956e-03,\n",
              "         1.10456585e-02, -1.10456585e-02],\n",
              "       [ 4.21299608e-04,  1.00169543e-06,  1.11111077e-03,\n",
              "        -1.26335222e-05,  1.18081341e-03,  9.92579548e-01,\n",
              "        -7.45025216e-04, -1.38886305e-02,  1.02374435e-01,\n",
              "        -4.99335985e-02, -3.85522063e-02, -2.90181194e-03,\n",
              "         8.47827126e-04,  4.63265180e-03, -1.68757490e-03,\n",
              "        -7.21827289e-04, -1.69264805e-04,  5.67288608e-03,\n",
              "         1.97842824e-03, -2.50378283e-03, -4.81713437e-03,\n",
              "        -3.94062596e-03,  3.62216632e-03, -1.19374791e-05,\n",
              "        -7.76921232e-04,  7.76921232e-04],\n",
              "       [ 4.91320721e-05, -1.37053629e-07,  1.85485869e-04,\n",
              "         1.42711851e-06,  1.34146499e-05, -1.18374601e-01,\n",
              "         6.54040553e-05, -2.84740822e-01,  8.59837428e-01,\n",
              "        -2.94163332e-01, -2.80933275e-01, -5.63635148e-04,\n",
              "         7.87351418e-04, -2.65655902e-04,  4.67786838e-04,\n",
              "         6.14395516e-05, -4.87286731e-04,  4.19810525e-03,\n",
              "         3.21859503e-03,  4.98109973e-03,  1.67379227e-03,\n",
              "        -2.27394743e-03, -5.69420219e-03, -6.10344266e-03,\n",
              "         1.04679152e-03, -1.04679152e-03],\n",
              "       [ 4.76074413e-05,  1.08687020e-08, -1.72827279e-04,\n",
              "        -2.86226247e-07, -7.52772483e-03, -3.06977725e-04,\n",
              "        -9.08328339e-05, -2.41362898e-03,  5.85736374e-03,\n",
              "        -1.79964460e-03, -1.64409015e-03, -3.66106332e-05,\n",
              "         3.95206314e-04, -3.66952574e-04,  1.59091187e-04,\n",
              "         2.71662746e-04, -4.22397041e-04, -1.91687934e-01,\n",
              "        -1.66226371e-01, -1.47074411e-01, -1.34241408e-01,\n",
              "        -1.29541108e-01, -1.55783117e-01,  9.24554349e-01,\n",
              "         3.11616611e-03, -3.11616611e-03],\n",
              "       [-0.00000000e+00,  2.96321921e-18, -8.78734578e-16,\n",
              "        -3.40678007e-17, -9.74323747e-15,  2.71825943e-12,\n",
              "        -1.79801790e-15,  1.88242820e-01,  1.88242820e-01,\n",
              "         1.88242820e-01,  1.88242820e-01,  3.74894629e-01,\n",
              "         3.74894629e-01,  3.74894629e-01,  3.74894629e-01,\n",
              "         3.74894629e-01,  3.74894629e-01,  3.73373694e-02,\n",
              "         3.73373694e-02,  3.73373694e-02,  3.73373694e-02,\n",
              "         3.73373694e-02,  3.73373694e-02,  3.73373694e-02,\n",
              "        -5.11082795e-02, -5.11082795e-02],\n",
              "       [-0.00000000e+00,  2.71182630e-22, -3.24601863e-17,\n",
              "        -1.08545017e-20, -3.33652496e-17, -9.49781443e-16,\n",
              "         3.96232279e-18,  4.16283723e-01,  4.16283723e-01,\n",
              "         4.16283723e-01,  4.16283723e-01, -1.25075427e-01,\n",
              "        -1.25075427e-01, -1.25075427e-01, -1.25075427e-01,\n",
              "        -1.25075427e-01, -1.25075427e-01, -1.64755132e-01,\n",
              "        -1.64755132e-01, -1.64755132e-01, -1.64755132e-01,\n",
              "        -1.64755132e-01, -1.64755132e-01, -1.64755132e-01,\n",
              "        -1.07141256e-01, -1.07141256e-01],\n",
              "       [ 0.00000000e+00,  5.29136839e-22, -2.02037313e-17,\n",
              "        -4.82532653e-21, -2.46103342e-17, -6.69442085e-16,\n",
              "         2.25585524e-18,  1.95565066e-01,  1.95565066e-01,\n",
              "         1.95565066e-01,  1.95565066e-01, -1.00326323e-01,\n",
              "        -1.00326323e-01, -1.00326323e-01, -1.00326323e-01,\n",
              "        -1.00326323e-01, -1.00326323e-01,  3.32308018e-01,\n",
              "         3.32308018e-01,  3.32308018e-01,  3.32308018e-01,\n",
              "         3.32308018e-01,  3.32308018e-01,  3.32308018e-01,\n",
              "         8.25368432e-02,  8.25368432e-02],\n",
              "       [-0.00000000e+00, -7.93705258e-23,  3.25143195e-18,\n",
              "         9.78730808e-21,  2.54764167e-17,  2.05983990e-16,\n",
              "         3.25159525e-19, -5.50164289e-02, -5.50164289e-02,\n",
              "        -5.50164289e-02, -5.50164289e-02, -2.02842396e-02,\n",
              "        -2.02842396e-02, -2.02842396e-02, -2.02842396e-02,\n",
              "        -2.02842396e-02, -2.02842396e-02,  6.23713981e-02,\n",
              "         6.23713981e-02,  6.23713981e-02,  6.23713981e-02,\n",
              "         6.23713981e-02,  6.23713981e-02,  6.23713981e-02,\n",
              "        -6.92167873e-01, -6.92167873e-01]])"
            ]
          },
          "metadata": {},
          "execution_count": 257
        }
      ]
    },
    {
      "cell_type": "code",
      "source": [
        "components.shape"
      ],
      "metadata": {
        "colab": {
          "base_uri": "https://localhost:8080/"
        },
        "id": "Bu7mlN36Ckv1",
        "outputId": "7320f9c9-3830-430e-95ce-184a886868c1"
      },
      "execution_count": 258,
      "outputs": [
        {
          "output_type": "execute_result",
          "data": {
            "text/plain": [
              "(32409, 26)"
            ]
          },
          "metadata": {},
          "execution_count": 258
        }
      ]
    },
    {
      "cell_type": "code",
      "source": [
        "pca.explained_variance_ratio_ #Explanined varience ratio, her bir componentin bize ne kadar bilgi verdiğini gösterir.."
      ],
      "metadata": {
        "colab": {
          "base_uri": "https://localhost:8080/"
        },
        "id": "v-_XFwSG4r9I",
        "outputId": "a49ed1f4-3d6c-4cf4-c0ac-35d517eafcaf"
      },
      "execution_count": 259,
      "outputs": [
        {
          "output_type": "execute_result",
          "data": {
            "text/plain": [
              "array([9.87172378e-01, 1.28275928e-02, 1.84908111e-08, 5.38665689e-09,\n",
              "       3.36822929e-09, 9.91999801e-10, 1.45298012e-10, 1.26578503e-10,\n",
              "       6.87390238e-11, 6.80322915e-11, 6.49009692e-11, 6.20949120e-11,\n",
              "       5.91916321e-11, 5.05450070e-11, 4.17747291e-11, 3.70992460e-11,\n",
              "       2.14124883e-11, 7.92954529e-12, 2.74169803e-12, 1.63947111e-12,\n",
              "       1.54524841e-12, 7.78274858e-13, 9.66102379e-33, 9.66102379e-33,\n",
              "       9.66102379e-33, 9.66102379e-33])"
            ]
          },
          "metadata": {},
          "execution_count": 259
        }
      ]
    },
    {
      "cell_type": "code",
      "source": [
        "1 - pca.explained_variance_ratio_.sum() #Aradaki veri kaybını hesaplamak için 1 den çıkarıp kaybettiğimiz veri oranını gördük.."
      ],
      "metadata": {
        "colab": {
          "base_uri": "https://localhost:8080/"
        },
        "id": "JswmE56H5MZL",
        "outputId": "56982df7-866b-4765-82e5-7b03f3461770"
      },
      "execution_count": 260,
      "outputs": [
        {
          "output_type": "execute_result",
          "data": {
            "text/plain": [
              "-2.220446049250313e-16"
            ]
          },
          "metadata": {},
          "execution_count": 260
        }
      ]
    },
    {
      "cell_type": "code",
      "source": [
        "# n_component değerini boş bırakırsak..\n",
        "pca = PCA()\n",
        "pca.fit(X)\n",
        "pca.components_"
      ],
      "metadata": {
        "id": "wGlN3MhQ5x_-"
      },
      "execution_count": null,
      "outputs": []
    },
    {
      "cell_type": "code",
      "source": [
        "pca.explained_variance_ratio_"
      ],
      "metadata": {
        "colab": {
          "base_uri": "https://localhost:8080/"
        },
        "id": "TYADvWFz6DFJ",
        "outputId": "bb5f9381-f0f8-4823-b390-a3feb538797d"
      },
      "execution_count": 244,
      "outputs": [
        {
          "output_type": "execute_result",
          "data": {
            "text/plain": [
              "array([9.87172378e-01, 1.28275928e-02, 1.84908111e-08, 5.38665689e-09,\n",
              "       3.36822929e-09, 9.91999801e-10, 1.45298012e-10, 1.26578503e-10,\n",
              "       6.87390238e-11, 6.80322915e-11, 6.49009692e-11, 6.20949120e-11,\n",
              "       5.91916321e-11, 5.05450070e-11, 4.17747291e-11, 3.70992460e-11,\n",
              "       2.14124883e-11, 7.92954529e-12, 2.74169803e-12, 1.63947111e-12,\n",
              "       1.54524841e-12, 7.78274858e-13, 9.66102379e-33, 9.66102379e-33,\n",
              "       9.66102379e-33, 9.66102379e-33])"
            ]
          },
          "metadata": {},
          "execution_count": 244
        }
      ]
    },
    {
      "cell_type": "code",
      "source": [
        "np.cumsum(pca.explained_variance_ratio_)"
      ],
      "metadata": {
        "colab": {
          "base_uri": "https://localhost:8080/"
        },
        "id": "K051fd9B6QSS",
        "outputId": "7bd16da4-e5d3-4eed-c0ad-ca72a0d297ed"
      },
      "execution_count": 262,
      "outputs": [
        {
          "output_type": "execute_result",
          "data": {
            "text/plain": [
              "array([0.98717238, 0.99999997, 0.99999999, 0.99999999, 1.        ,\n",
              "       1.        , 1.        , 1.        , 1.        , 1.        ,\n",
              "       1.        , 1.        , 1.        , 1.        , 1.        ,\n",
              "       1.        , 1.        , 1.        , 1.        , 1.        ,\n",
              "       1.        , 1.        , 1.        , 1.        , 1.        ,\n",
              "       1.        ])"
            ]
          },
          "metadata": {},
          "execution_count": 262
        }
      ]
    },
    {
      "cell_type": "code",
      "source": [
        "pca = PCA(n_components=0.99)\n",
        "pca.fit(X)\n",
        "pca.components_"
      ],
      "metadata": {
        "colab": {
          "base_uri": "https://localhost:8080/"
        },
        "id": "Bs8TCZkyDmIl",
        "outputId": "ab7084a9-9413-4c1f-baa7-c6c35d273c0f"
      },
      "execution_count": 263,
      "outputs": [
        {
          "output_type": "execute_result",
          "data": {
            "text/plain": [
              "array([[ 1.66046783e-05,  9.99254947e-01,  1.17780504e-05,\n",
              "         3.85946944e-02, -1.81909023e-08, -5.92622383e-07,\n",
              "         9.47124176e-06,  2.21338548e-06,  1.26873388e-08,\n",
              "        -2.30515410e-07, -1.99555741e-06,  3.53149822e-08,\n",
              "        -1.28190361e-07,  3.09339114e-07, -2.98771873e-07,\n",
              "         5.20145246e-08,  3.02936123e-08,  7.87708060e-08,\n",
              "         5.07886534e-08, -1.36190731e-07, -8.65060290e-08,\n",
              "         5.47225291e-08,  3.04328342e-08,  7.98193767e-09,\n",
              "         1.69441192e-08, -1.69441192e-08],\n",
              "       [-7.17257027e-06,  3.85946949e-02, -4.35518368e-05,\n",
              "        -9.99254943e-01, -7.58994580e-05, -1.25380757e-05,\n",
              "        -1.98395072e-06, -4.79834427e-06, -9.32068099e-08,\n",
              "         5.52711838e-07,  4.33883924e-06,  4.78966759e-08,\n",
              "         2.45336416e-07, -1.46028334e-06,  7.80070198e-07,\n",
              "         2.33073062e-07,  1.53906986e-07,  9.88202251e-06,\n",
              "        -3.40607609e-06,  1.65482330e-06, -4.16960792e-06,\n",
              "        -2.59411711e-06, -9.72127098e-07, -3.94917597e-07,\n",
              "         2.68147030e-06, -2.68147030e-06]])"
            ]
          },
          "metadata": {},
          "execution_count": 263
        }
      ]
    },
    {
      "cell_type": "code",
      "source": [
        "pca.explained_variance_ratio_"
      ],
      "metadata": {
        "id": "8PU5-JkdDpws",
        "colab": {
          "base_uri": "https://localhost:8080/"
        },
        "outputId": "97f70676-d5a3-49a9-b74b-8461f73e356d"
      },
      "execution_count": 264,
      "outputs": [
        {
          "output_type": "execute_result",
          "data": {
            "text/plain": [
              "array([0.98717238, 0.01282759])"
            ]
          },
          "metadata": {},
          "execution_count": 264
        }
      ]
    },
    {
      "cell_type": "code",
      "source": [
        "1 - pca.explained_variance_ratio_.sum()"
      ],
      "metadata": {
        "colab": {
          "base_uri": "https://localhost:8080/"
        },
        "id": "RnfDkBorFPt7",
        "outputId": "37297e0c-0aae-4031-f6ff-4f7002266748"
      },
      "execution_count": 265,
      "outputs": [
        {
          "output_type": "execute_result",
          "data": {
            "text/plain": [
              "2.89979980028221e-08"
            ]
          },
          "metadata": {},
          "execution_count": 265
        }
      ]
    },
    {
      "cell_type": "code",
      "source": [
        "pca = PCA(n_components=0.2)\n",
        "pca.fit(X)\n",
        "pca.components_"
      ],
      "metadata": {
        "colab": {
          "base_uri": "https://localhost:8080/"
        },
        "id": "rxocjibdGUDn",
        "outputId": "f569da2d-3057-44ab-87bf-69652bfee30f"
      },
      "execution_count": 266,
      "outputs": [
        {
          "output_type": "execute_result",
          "data": {
            "text/plain": [
              "array([[ 1.66046783e-05,  9.99254947e-01,  1.17780504e-05,\n",
              "         3.85946944e-02, -1.81909023e-08, -5.92622383e-07,\n",
              "         9.47124176e-06,  2.21338548e-06,  1.26873388e-08,\n",
              "        -2.30515410e-07, -1.99555741e-06,  3.53149822e-08,\n",
              "        -1.28190361e-07,  3.09339114e-07, -2.98771873e-07,\n",
              "         5.20145246e-08,  3.02936123e-08,  7.87708060e-08,\n",
              "         5.07886534e-08, -1.36190731e-07, -8.65060290e-08,\n",
              "         5.47225291e-08,  3.04328342e-08,  7.98193767e-09,\n",
              "         1.69441192e-08, -1.69441192e-08]])"
            ]
          },
          "metadata": {},
          "execution_count": 266
        }
      ]
    },
    {
      "cell_type": "code",
      "source": [
        "pca.explained_variance_ratio_"
      ],
      "metadata": {
        "colab": {
          "base_uri": "https://localhost:8080/"
        },
        "id": "eH7hyfElGh0j",
        "outputId": "466d94b4-8f30-4256-a3a8-e1e640a9cbe3"
      },
      "execution_count": 267,
      "outputs": [
        {
          "output_type": "execute_result",
          "data": {
            "text/plain": [
              "array([0.98717238])"
            ]
          },
          "metadata": {},
          "execution_count": 267
        }
      ]
    },
    {
      "cell_type": "code",
      "source": [
        "1 - pca.explained_variance_ratio_.sum()"
      ],
      "metadata": {
        "colab": {
          "base_uri": "https://localhost:8080/"
        },
        "id": "5R8Z_n_LGa20",
        "outputId": "bdf80bbb-089e-4994-972e-ac5b5dfebbc5"
      },
      "execution_count": 268,
      "outputs": [
        {
          "output_type": "execute_result",
          "data": {
            "text/plain": [
              "0.012827621799865185"
            ]
          },
          "metadata": {},
          "execution_count": 268
        }
      ]
    },
    {
      "cell_type": "code",
      "source": [
        "train_x = pca.fit_transform(train_x)\n",
        "test_x = pca.fit_transform(test_x)"
      ],
      "metadata": {
        "id": "bZTbfDCyKhEr"
      },
      "execution_count": 287,
      "outputs": []
    },
    {
      "cell_type": "code",
      "source": [
        "import warnings\n",
        "warnings.filterwarnings('ignore')\n",
        "\n",
        "from sklearn.linear_model import LogisticRegression\n",
        "from sklearn.metrics import accuracy_score"
      ],
      "metadata": {
        "id": "DJ8hyiuHHELS"
      },
      "execution_count": 288,
      "outputs": []
    },
    {
      "cell_type": "code",
      "source": [
        "logreg = LogisticRegression()\n",
        "logreg.fit(train_x,train_y)"
      ],
      "metadata": {
        "colab": {
          "base_uri": "https://localhost:8080/"
        },
        "id": "Xq7y7QzoHvRm",
        "outputId": "e2a104bc-17fd-4d0a-b612-ea2af8acf968"
      },
      "execution_count": 289,
      "outputs": [
        {
          "output_type": "execute_result",
          "data": {
            "text/plain": [
              "LogisticRegression()"
            ]
          },
          "metadata": {},
          "execution_count": 289
        }
      ]
    },
    {
      "cell_type": "code",
      "source": [
        "pred_y = pd.Series(logreg.predict(test_x))\n"
      ],
      "metadata": {
        "id": "_PIw3-YrIzCF"
      },
      "execution_count": 290,
      "outputs": []
    },
    {
      "cell_type": "code",
      "source": [
        "accuracy_score(test_y, pred_y)"
      ],
      "metadata": {
        "colab": {
          "base_uri": "https://localhost:8080/"
        },
        "id": "VAH1XulUJbrR",
        "outputId": "0cd5b59e-5272-4c9a-bf67-de93cd5d83fe"
      },
      "execution_count": 291,
      "outputs": [
        {
          "output_type": "execute_result",
          "data": {
            "text/plain": [
              "0.41808083924714595"
            ]
          },
          "metadata": {},
          "execution_count": 291
        }
      ]
    },
    {
      "cell_type": "code",
      "source": [
        "from sklearn.ensemble import RandomForestClassifier\n",
        "rF_clf=RandomForestClassifier()\n",
        "rF_clf.fit(train_x, train_y)"
      ],
      "metadata": {
        "colab": {
          "base_uri": "https://localhost:8080/"
        },
        "id": "V0SJm3-gMBYg",
        "outputId": "f5361151-58ed-4b74-960a-02f092fcfdb8"
      },
      "execution_count": 297,
      "outputs": [
        {
          "output_type": "execute_result",
          "data": {
            "text/plain": [
              "RandomForestClassifier()"
            ]
          },
          "metadata": {},
          "execution_count": 297
        }
      ]
    },
    {
      "cell_type": "code",
      "source": [
        "pred_y = rF_clf.predict(test_x)"
      ],
      "metadata": {
        "id": "j0BeNU9rOSWj"
      },
      "execution_count": 298,
      "outputs": []
    },
    {
      "cell_type": "code",
      "source": [
        "accuracy_score(test_y, pred_y)"
      ],
      "metadata": {
        "colab": {
          "base_uri": "https://localhost:8080/"
        },
        "id": "1nwYN_8JOcNG",
        "outputId": "e6a014f1-911f-43f8-bffb-3cc1a09a408f"
      },
      "execution_count": 299,
      "outputs": [
        {
          "output_type": "execute_result",
          "data": {
            "text/plain": [
              "0.7497685899413761"
            ]
          },
          "metadata": {},
          "execution_count": 299
        }
      ]
    }
  ],
  "metadata": {
    "kernelspec": {
      "display_name": "Python 3",
      "language": "python",
      "name": "python3"
    },
    "language_info": {
      "codemirror_mode": {
        "name": "ipython",
        "version": 2
      },
      "file_extension": ".py",
      "mimetype": "text/x-python",
      "name": "python",
      "nbconvert_exporter": "python",
      "pygments_lexer": "ipython2",
      "version": "2.7.6"
    },
    "colab": {
      "name": "Week04_Odev.ipynb",
      "provenance": [],
      "collapsed_sections": []
    }
  },
  "nbformat": 4,
  "nbformat_minor": 0
}